{
 "cells": [
  {
   "cell_type": "code",
   "execution_count": 7,
   "id": "097da7d7-3c44-4157-bf1a-ec1831a9d866",
   "metadata": {},
   "outputs": [],
   "source": [
    "import pandas as pd\n",
    "import os as os\n",
    "import mendeleev as ptable\n",
    "import numpy as np\n",
    "from Determine_Bonds_Get_Input import find_orbitals_get_characteristics, build_graph_tensor"
   ]
  },
  {
   "cell_type": "code",
   "execution_count": 43,
   "id": "0fc16434-fd20-4a0c-8bfb-dc88ab9f8f90",
   "metadata": {},
   "outputs": [],
   "source": [
    "class g16_input_file:\n",
    "    def __init__(self, seed_structure_directory, molecular_formula, job_type, input_directory, output_directory, AO_basis, polarization, diffuse, job_title, SCF_optimization, csv_filepath, record_filepath, record_filename, element, n_CPU, allowed_memory):\n",
    "        self.seed_structure_directory = seed_structure_directory\n",
    "        self.molecular_formula = molecular_formula\n",
    "        self.job_type = job_type\n",
    "        self.input_directory = input_directory\n",
    "        self.output_directory = output_directory\n",
    "        self.AO_basis = AO_basis\n",
    "        self.polarization = polarization\n",
    "        self.job_title = job_title\n",
    "        self.SCF_optimization = SCF_optimization\n",
    "        self.csv_filepath = csv_filepath\n",
    "        self.record_filepath = record_filepath\n",
    "        self.record_filename = record_filename\n",
    "        self.element = element\n",
    "        self.n_CPU = n_CPU\n",
    "        self.allowed_memory = allowed_memory\n",
    "\n",
    "    def generate_input_file(self, molecular_formula, job_type, input_directory, output_directory, seed_structure_directory, csv_filepath, record_filepath, record_filename, n_CPU, allowed_memory):\n",
    "        input_filepath = os.path.join(input_directory, str(molecular_formula))\n",
    "        input_file = open(input_filepath, \"w\")\n",
    "        seed_structure = seed_structure_directory + \"/\" + str(molecular_formula) + \".csv\"\n",
    "        energy_checkpoint_path = os.path.join(output_directory, str(molecular_formula))\n",
    "        geom_checkpoint_path = os.path.join(output_directory, str(molecular_formula) + \"_geom\")\n",
    "        energy_chk = open(energy_checkpoint_path, \"w\")\n",
    "        geom_chk = open(geom_checkpoint_path, \"w\")\n",
    "        energy_chk_name = str(molecular_formula) + \".chk\"\n",
    "        geom_chk_name = str(molecular_formula) + \"_geom\" + \".chk\"\n",
    "        if job_type == \"ground_state_energy_calculation\":\n",
    "            job_abbrev = \"SP\"\n",
    "            input_file.write(\"%chk=\" + energy_chk_name)\n",
    "            input_file.write(\"\\n\")\n",
    "        elif job_type == \"geometry_optimization\":\n",
    "            job_abbrev = \"Opt\"\n",
    "            input_file.write(\"%chk=\" + geom_chk_name)\n",
    "            input_file.write(\"\\n\")\n",
    "        graph_tensor = build_graph_tensor(csv_filepath, record_filepath, record_filename)\n",
    "        molecular_characteristics = find_orbitals_get_characteristics(molecular_formula = molecular_formula, seed_structure_directory = seed_structure_directory, element = None, graph_tensor = graph_tensor)\n",
    "        symbol, Z, block = molecular_characteristics.get_symbols_and_numbers(molecular_formula = molecular_characteristics.molecular_formula, seed_structure_directory = molecular_characteristics.seed_structure_directory, graph_tensor = molecular_characteristics.graph_tensor)\n",
    "        if \"d\" in block or \"f\" in block:\n",
    "            AO_basis = \"triple_zeta\"\n",
    "        elif \"C\" in symbol:\n",
    "            AO_basis = \"6-31G\"\n",
    "        elif \"Na\" in symbol or \"K\" in symbol or \"Mg\" in symbol or \"Ca\" in symbol or \"Li\" in symbol or \"Be\" in symbol:\n",
    "            AO_basis = \"LANL_double_zeta\"\n",
    "            # remember: input LANL2DZ for this case\n",
    "        else:\n",
    "            AO_basis = \"STO-3G\"\n",
    "        input_file.write(\"%nprocs=\" + str(n_CPU))\n",
    "        input_file.write(\"\\n\")\n",
    "        input_file.write(\"%mem=\" + allowed_memory)\n",
    "        input_file.write(\"\\n\")\n",
    "        if AO_basis == \"triple_zeta\":\n",
    "            \n",
    "        return AO_basis\n",
    "        \n",
    "        \n",
    "        "
   ]
  },
  {
   "cell_type": "code",
   "execution_count": 44,
   "id": "abda0592-16a4-43ac-aa5b-e82c7b3b2c2e",
   "metadata": {},
   "outputs": [
    {
     "name": "stdout",
     "output_type": "stream",
     "text": [
      "lanthanum\n",
      "d\n"
     ]
    }
   ],
   "source": [
    "def find_atomic_symbol(element):\n",
    "    characteristic_list = []\n",
    "    blanks = np.array([])\n",
    "    for i in np.arange(0, len(str(element))):\n",
    "        characteristic_list.append(str(element)[i])\n",
    "    for j in np.arange(0, len(characteristic_list)):\n",
    "        if characteristic_list[j] == \" \":\n",
    "            blanks = np.append(blanks, j)\n",
    "    atomic_symbol = str(element)[int(blanks[0]):int(blanks[1])]\n",
    "    return atomic_symbol\n",
    "\n",
    "atomic_numbers = np.array([])\n",
    "element_set = ptable.get_all_elements()\n",
    "for i in np.arange(0, len(element_set)):\n",
    "    if find_atomic_symbol(element_set[i]) == find_atomic_symbol(element_set[56]):\n",
    "        print('lanthanum')\n",
    "        print(element_set[i].block)"
   ]
  },
  {
   "cell_type": "code",
   "execution_count": 46,
   "id": "fa50189e-851f-40e4-8e3b-2db330d54741",
   "metadata": {},
   "outputs": [
    {
     "name": "stdout",
     "output_type": "stream",
     "text": [
      "triple_zeta\n"
     ]
    }
   ],
   "source": [
    "csv_filepath = \"/users/haydenprescott/documents/test.csv\"\n",
    "record_filepath = \"/users/haydenprescott/test_data.tfrecord\" \n",
    "record_filename = \"test_data.tfrecord\"\n",
    "\n",
    "gaussian_input = g16_input_file(seed_structure_directory = \"/users/haydenprescott/documents\", molecular_formula = \"La3O4\", job_type = \"ground_state_energy_calculation\", input_directory = \"/users/haydenprescott/documents\", output_directory = \"/users/haydenprescott/documents/gaussian_test_data\", AO_basis = \" \", polarization = None, diffuse = None, job_title = \"seed structure ground state\", SCF_optimization = 'tight', csv_filepath = csv_filepath, record_filepath = record_filepath, record_filename = record_filename, element = None, n_CPU = 2, allowed_memory = \"1000MB\")\n",
    "print(gaussian_input.generate_input_file(molecular_formula = gaussian_input.molecular_formula, job_type = gaussian_input.job_type, input_directory = gaussian_input.input_directory, output_directory = gaussian_input.output_directory, seed_structure_directory = gaussian_input.seed_structure_directory, csv_filepath = gaussian_input.csv_filepath, record_filepath = gaussian_input.record_filepath, record_filename = gaussian_input.record_filename))\n",
    "                                         "
   ]
  },
  {
   "cell_type": "code",
   "execution_count": 30,
   "id": "4578e7d0-235f-4f2c-be23-010197df7d0d",
   "metadata": {},
   "outputs": [
    {
     "name": "stdout",
     "output_type": "stream",
     "text": [
      "(array(['La', 'O', 'O', 'La', 'O', 'O'], dtype=object), array([57.,  8.,  8., 57.,  8.,  8.]), array(['d', 'p', 'p', 'd', 'p', 'p'], dtype='<U32'))\n"
     ]
    }
   ],
   "source": [
    "graph_tensor = build_graph_tensor(csv_filepath, record_filepath, record_filename)\n",
    "print(molecular_characteristics.get_symbols_and_numbers(molecular_formula = molecular_characteristics.molecular_formula, seed_structure_directory = molecular_characteristics.seed_structure_directory, graph_tensor = molecular_characteristics.graph_tensor))                                                     "
   ]
  },
  {
   "cell_type": "raw",
   "id": "131e88e1-1d23-49c7-84b4-171914cd9a7e",
   "metadata": {},
   "source": [
    "\n",
    "                                                              "
   ]
  }
 ],
 "metadata": {
  "kernelspec": {
   "display_name": "Python 3 (ipykernel)",
   "language": "python",
   "name": "python3"
  },
  "language_info": {
   "codemirror_mode": {
    "name": "ipython",
    "version": 3
   },
   "file_extension": ".py",
   "mimetype": "text/x-python",
   "name": "python",
   "nbconvert_exporter": "python",
   "pygments_lexer": "ipython3",
   "version": "3.10.14"
  }
 },
 "nbformat": 4,
 "nbformat_minor": 5
}
