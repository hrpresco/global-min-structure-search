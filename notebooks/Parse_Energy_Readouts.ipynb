{
 "cells": [
  {
   "cell_type": "code",
   "execution_count": 1,
   "id": "70abd670-49ad-4b44-bca4-42b226a7821b",
   "metadata": {},
   "outputs": [],
   "source": [
    "import re as re\n",
    "import subprocess as sub\n",
    "import sys as sys\n",
    "import numpy as np"
   ]
  },
  {
   "cell_type": "code",
   "execution_count": 2,
   "id": "faf90079-662e-4a24-a099-e9ef3cfad170",
   "metadata": {},
   "outputs": [],
   "source": [
    "def not_real_val(output_val):\n",
    "    if str(output_val) == str(1e400*0):\n",
    "        NAN = True\n",
    "    else:\n",
    "        NAN = False\n",
    "    return NAN"
   ]
  },
  {
   "cell_type": "code",
   "execution_count": 13,
   "id": "09d23f38-829e-45fc-9ebd-4e4fdd9e3f6f",
   "metadata": {},
   "outputs": [],
   "source": [
    "molecule_filename = sys.argv[1]\n",
    "output_filename = molecule_filename + \"_output.txt\"\n",
    "\n",
    "def write_energy_data(output_filename):\n",
    "    i = 0\n",
    "    output = open(output_filename, \"w+\")\n",
    "    while True:\n",
    "        convert_to_checkpoint = \"formchk %s_%i.chk %s_%i.fchk\"%(molecule_filename, i, molecule_filename, i)\n",
    "        try:\n",
    "            open((\"%s_%i.chk\"%(molecule_filename,i)))\n",
    "        except IOError:\n",
    "            break\n",
    "        if (sub.call(convert_to_checkpoint, shell = True)) == 0:\n",
    "            output_file = open(output_filename + \"_%i.fchk\"%i, \"r\")\n",
    "            n_valence_electrons = 0\n",
    "            MOs = []\n",
    "            parse_line = True\n",
    "            j = 0\n",
    "            placeholder_reg_exp = re.compile(\"Number of electrons\\s+I\\s+(\\d+)\")\n",
    "            for readout in output_file:\n",
    "                if \"Alpha Orbital Energies\" in readout:\n",
    "                    parse_line = True\n",
    "                    j = 0\n",
    "                if parse_line == True:\n",
    "                    j += 1\n",
    "                if parse_line == True and j >= 2:\n",
    "                    try:\n",
    "                        MOs.extend([float(s) for s in readout.split()])\n",
    "                    except:\n",
    "                        parse_line = False\n",
    "                match_found = placeholder_reg_exp.search(readout)\n",
    "                if type(match_found) != None:\n",
    "                    n_valence_electrons = int(match_found.group(1))\n",
    "        \n",
    "            log_output = open(output_filename+\"_%i.log\"%i)\n",
    "            reg_exp_exc = re.compile(\"Excited State\\W+1:.*[^-]([+-]?\\d+\\.\\d+)\\W+eV\")\n",
    "            reg_exp_ground = re.compile(\"Excited State\\W+1:.*[^-]([+-]?\\d+\\.\\d+)\\W+eV\")\n",
    "        \t#matches the energy of the first exitation state\n",
    "            NAN_flag = float('nan');\n",
    "            for readout in log_output:\n",
    "                match_found_exc = reg_exp_exc.search(readout)\n",
    "                match_found_ground = reg_exp_ground.search(readout)\n",
    "                if type(match_found_exc) != None:\n",
    "                    first_exc_state = float(match_found_exc.group(1))\n",
    "                if isNaN(first_exc_state) == True:\n",
    "                    pass\n",
    "                if type(match_found_ground) != None:\n",
    "                    ground_state_ener = float(match_found_ground.group(1))\n",
    "                if isNaN(ground_state_ener) == True:\n",
    "                    pass\n",
    "        \n",
    "\n",
    "        elif (sub.call(convert_to_checkpoint, shell = True)) != 0:\n",
    "            break\n",
    "\n",
    "        output.write(\"%i %.10e %.10e\\n\"%(i,orbs[electrons/2-1]-orbs[electrons/2],first_exc_state,ground_state_ener)) \n",
    "    \t#the homo/lumo orbitals are assumed to be at halfe the number of electrons\n",
    "\t\n",
    "        i += 1\n",
    "    output.close()\n",
    "\t\n",
    "                \n",
    "    "
   ]
  },
  {
   "cell_type": "code",
   "execution_count": null,
   "id": "c675b788-2083-4204-94c8-94c9e3f0980a",
   "metadata": {},
   "outputs": [],
   "source": []
  }
 ],
 "metadata": {
  "kernelspec": {
   "display_name": "Python 3 (ipykernel)",
   "language": "python",
   "name": "python3"
  },
  "language_info": {
   "codemirror_mode": {
    "name": "ipython",
    "version": 3
   },
   "file_extension": ".py",
   "mimetype": "text/x-python",
   "name": "python",
   "nbconvert_exporter": "python",
   "pygments_lexer": "ipython3",
   "version": "3.10.14"
  }
 },
 "nbformat": 4,
 "nbformat_minor": 5
}
