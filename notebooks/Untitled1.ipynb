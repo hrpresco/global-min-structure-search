{
 "cells": [
  {
   "cell_type": "code",
   "execution_count": 1,
   "id": "4c6c9eab-e3c7-42d7-a515-f9912206a962",
   "metadata": {},
   "outputs": [],
   "source": [
    "import numpy as np\n",
    "import scipy as scipy"
   ]
  },
  {
   "cell_type": "code",
   "execution_count": 2,
   "id": "6b56ac2d-f31e-4da9-8462-a8edf4a7e4f5",
   "metadata": {},
   "outputs": [
    {
     "name": "stdout",
     "output_type": "stream",
     "text": [
      "(array([[-0.70710678, -0.70710678],\n",
      "       [-0.70710678,  0.70710678]]), array([1.41421356, 1.41421356]), array([[-1., -0.],\n",
      "       [ 0.,  1.]]))\n"
     ]
    }
   ],
   "source": [
    "A = np.array([[1,-1], [1,1]])\n",
    "print(scipy.linalg.svd(A))"
   ]
  },
  {
   "cell_type": "code",
   "execution_count": 5,
   "id": "d4ce3d42-d29b-4dc7-918e-3e43005e17a8",
   "metadata": {},
   "outputs": [
    {
     "name": "stdout",
     "output_type": "stream",
     "text": [
      "[[-0.5 -0.5  0. ]\n",
      " [ 0.   0.  -1. ]\n",
      " [ 0.5  0.5  0. ]]\n"
     ]
    }
   ],
   "source": [
    "A = np.array([[0.5, 0.5], [-1, 1], [-0.5, -0.5]])\n",
    "A_prime = np.array([[-0.5, -0.5, 0.5], [-0.5, -0.5, -0.5]])\n",
    "print(A @ A_prime)"
   ]
  },
  {
   "cell_type": "code",
   "execution_count": null,
   "id": "9bef0da6-5dec-477e-9eff-d3162d9d6803",
   "metadata": {},
   "outputs": [],
   "source": []
  }
 ],
 "metadata": {
  "kernelspec": {
   "display_name": "Python 3 (ipykernel)",
   "language": "python",
   "name": "python3"
  },
  "language_info": {
   "codemirror_mode": {
    "name": "ipython",
    "version": 3
   },
   "file_extension": ".py",
   "mimetype": "text/x-python",
   "name": "python",
   "nbconvert_exporter": "python",
   "pygments_lexer": "ipython3",
   "version": "3.10.14"
  }
 },
 "nbformat": 4,
 "nbformat_minor": 5
}
